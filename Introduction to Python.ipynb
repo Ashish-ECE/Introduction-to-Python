{
 "cells": [
  {
   "cell_type": "code",
   "execution_count": 2,
   "metadata": {},
   "outputs": [
    {
     "name": "stdout",
     "output_type": "stream",
     "text": [
      "50000\n",
      "25.5\n"
     ]
    }
   ],
   "source": [
    "income=50000\n",
    "\n",
    "# # Declare a variable\n",
    "# call up value\n",
    "# Rs. 50000 - 25 years\n",
    "# Variable is specifice and case sensitive\n",
    "\n",
    "print(income)\n",
    "\n",
    "Age= 25.5\n",
    "print(Age)"
   ]
  },
  {
   "cell_type": "code",
   "execution_count": 3,
   "metadata": {},
   "outputs": [
    {
     "name": "stdout",
     "output_type": "stream",
     "text": [
      "<class 'int'>\n",
      "<class 'float'>\n"
     ]
    }
   ],
   "source": [
    "print(type(income))\n",
    "print(type(Age))"
   ]
  },
  {
   "cell_type": "code",
   "execution_count": 5,
   "metadata": {},
   "outputs": [
    {
     "name": "stdout",
     "output_type": "stream",
     "text": [
      "62500.0\n",
      "<class 'float'>\n"
     ]
    }
   ],
   "source": [
    "Income1=50000\n",
    "Income2=75000\n",
    "Avg = ((Income1+Income2)/2)\n",
    "print(Avg)\n",
    "print(type(Avg))"
   ]
  },
  {
   "cell_type": "code",
   "execution_count": 7,
   "metadata": {},
   "outputs": [],
   "source": [
    "# Variable make code Reproducible"
   ]
  },
  {
   "cell_type": "code",
   "execution_count": 6,
   "metadata": {},
   "outputs": [
    {
     "name": "stdout",
     "output_type": "stream",
     "text": [
      "62500.0\n"
     ]
    }
   ],
   "source": [
    "print(Avg)"
   ]
  },
  {
   "cell_type": "code",
   "execution_count": 7,
   "metadata": {},
   "outputs": [
    {
     "name": "stdout",
     "output_type": "stream",
     "text": [
      "0.6666666666666666\n",
      "<class 'float'>\n"
     ]
    }
   ],
   "source": [
    "print (float(Income1)/Income2)\n",
    "print(type(float(Income1)/Income2))"
   ]
  },
  {
   "cell_type": "markdown",
   "metadata": {},
   "source": [
    "Strings and Booleans"
   ]
  },
  {
   "cell_type": "code",
   "execution_count": 8,
   "metadata": {},
   "outputs": [
    {
     "name": "stdout",
     "output_type": "stream",
     "text": [
      "<class 'str'>\n"
     ]
    }
   ],
   "source": [
    "Course = \"Data Science with Python\"\n",
    "print(type(Course))"
   ]
  },
  {
   "cell_type": "code",
   "execution_count": 9,
   "metadata": {},
   "outputs": [
    {
     "name": "stdout",
     "output_type": "stream",
     "text": [
      "<class 'bool'>\n"
     ]
    }
   ],
   "source": [
    "Learning = True\n",
    "print(type(Learning))"
   ]
  },
  {
   "cell_type": "code",
   "execution_count": 10,
   "metadata": {},
   "outputs": [
    {
     "data": {
      "text/plain": [
       "11"
      ]
     },
     "execution_count": 10,
     "metadata": {},
     "output_type": "execute_result"
    }
   ],
   "source": [
    "3+8"
   ]
  },
  {
   "cell_type": "code",
   "execution_count": 11,
   "metadata": {},
   "outputs": [
    {
     "data": {
      "text/plain": [
       "'DataScience'"
      ]
     },
     "execution_count": 11,
     "metadata": {},
     "output_type": "execute_result"
    }
   ],
   "source": [
    "'Data' + 'Science'"
   ]
  },
  {
   "cell_type": "code",
   "execution_count": 12,
   "metadata": {},
   "outputs": [
    {
     "name": "stdout",
     "output_type": "stream",
     "text": [
      "3\n",
      "111\n"
     ]
    }
   ],
   "source": [
    "#the + opeartor concatenates strings together ,while the * concatenates multiple copies of a string together\n",
    "sample2 = 1 * 3\n",
    "sample3 = \"1\" * 3\n",
    "\n",
    "print(sample2)\n",
    "print(sample3)"
   ]
  },
  {
   "cell_type": "code",
   "execution_count": 22,
   "metadata": {},
   "outputs": [],
   "source": [
    "# Different Types behave differents. Plus works differently on a integer vs. a string"
   ]
  },
  {
   "cell_type": "code",
   "execution_count": 13,
   "metadata": {},
   "outputs": [
    {
     "ename": "TypeError",
     "evalue": "can only concatenate str (not \"int\") to str",
     "output_type": "error",
     "traceback": [
      "\u001b[1;31m---------------------------------------------------------------------------\u001b[0m",
      "\u001b[1;31mTypeError\u001b[0m                                 Traceback (most recent call last)",
      "\u001b[1;32m<ipython-input-13-f2fb4bd63049>\u001b[0m in \u001b[0;36m<module>\u001b[1;34m\u001b[0m\n\u001b[1;32m----> 1\u001b[1;33m \u001b[0mprint\u001b[0m\u001b[1;33m(\u001b[0m\u001b[1;34m\"Sumit started with income of Rs.\"\u001b[0m \u001b[1;33m+\u001b[0m \u001b[0mIncome1\u001b[0m \u001b[1;33m+\u001b[0m \u001b[1;34m\". Gradually it was increased to Rs. \"\u001b[0m \u001b[1;33m+\u001b[0m \u001b[0mIncome2\u001b[0m\u001b[1;33m)\u001b[0m\u001b[1;33m\u001b[0m\u001b[1;33m\u001b[0m\u001b[0m\n\u001b[0m",
      "\u001b[1;31mTypeError\u001b[0m: can only concatenate str (not \"int\") to str"
     ]
    }
   ],
   "source": [
    "print(\"Sumit started with income of Rs.\" + Income1 + \". Gradually it was increased to Rs. \" + Income2)"
   ]
  },
  {
   "cell_type": "code",
   "execution_count": 14,
   "metadata": {},
   "outputs": [
    {
     "name": "stdout",
     "output_type": "stream",
     "text": [
      "Sumit started with income of Rs.50000. Gradually it was increased to Rs. 75000\n"
     ]
    }
   ],
   "source": [
    "print(\"Sumit started with income of Rs.\" + str(Income1) + \". Gradually it was increased to Rs. \" + str(Income2))"
   ]
  },
  {
   "cell_type": "code",
   "execution_count": 15,
   "metadata": {},
   "outputs": [
    {
     "data": {
      "text/plain": [
       "str"
      ]
     },
     "execution_count": 15,
     "metadata": {},
     "output_type": "execute_result"
    }
   ],
   "source": [
    "Income = \"10000\"\n",
    "type(Income)"
   ]
  },
  {
   "cell_type": "code",
   "execution_count": 16,
   "metadata": {},
   "outputs": [
    {
     "data": {
      "text/plain": [
       "10000"
      ]
     },
     "execution_count": 16,
     "metadata": {},
     "output_type": "execute_result"
    }
   ],
   "source": [
    "NIncome = int(Income)\n",
    "NIncome"
   ]
  },
  {
   "cell_type": "markdown",
   "metadata": {},
   "source": [
    "Lists"
   ]
  },
  {
   "cell_type": "code",
   "execution_count": 17,
   "metadata": {},
   "outputs": [
    {
     "name": "stdout",
     "output_type": "stream",
     "text": [
      "[50000, 75000, 65000, 45000, 25000]\n"
     ]
    }
   ],
   "source": [
    "#Income of a certai group\n",
    "\n",
    "Income1 = 50000\n",
    "Income2 = 75000\n",
    "Income3 = 65000\n",
    "Income4 = 45000\n",
    "Income5 = 25000\n",
    "\n",
    "Income = [Income1, Income2, Income3, Income4, Income5]\n",
    "print(Income)"
   ]
  },
  {
   "cell_type": "code",
   "execution_count": 18,
   "metadata": {},
   "outputs": [
    {
     "data": {
      "text/plain": [
       "['Sumit', 50000, 'Amit', 75000, 'Tina', 65000, 'Heena', 45000, 'Reena', 25000]"
      ]
     },
     "execution_count": 18,
     "metadata": {},
     "output_type": "execute_result"
    }
   ],
   "source": [
    "Income = [\"Sumit\",50000,\"Amit\",75000,\"Tina\",65000,\"Heena\",45000,\"Reena\",25000]\n",
    "Income"
   ]
  },
  {
   "cell_type": "code",
   "execution_count": 19,
   "metadata": {},
   "outputs": [
    {
     "data": {
      "text/plain": [
       "[['sumit', 50000],\n",
       " ['Amit', 75000],\n",
       " ['Tina,65000'],\n",
       " ['Heena,45000'],\n",
       " ['Reena', 25000]]"
      ]
     },
     "execution_count": 19,
     "metadata": {},
     "output_type": "execute_result"
    }
   ],
   "source": [
    "#Lists can also contain Lists themselves\n",
    "#Instead of putting strings between the number one can create sublists for each Income entry\n",
    "\n",
    "Income2 = [['sumit',50000],\n",
    "          ['Amit',75000],\n",
    "          ['Tina,65000'],\n",
    "          ['Heena,45000'],\n",
    "          ['Reena',25000]]\n",
    "Income2 # The main List contain 5 sub lists"
   ]
  },
  {
   "cell_type": "code",
   "execution_count": 20,
   "metadata": {},
   "outputs": [
    {
     "data": {
      "text/plain": [
       "list"
      ]
     },
     "execution_count": 20,
     "metadata": {},
     "output_type": "execute_result"
    }
   ],
   "source": [
    "type(Income)\n",
    "type(Income2)"
   ]
  },
  {
   "cell_type": "code",
   "execution_count": 21,
   "metadata": {},
   "outputs": [
    {
     "data": {
      "text/plain": [
       "65000"
      ]
     },
     "execution_count": 21,
     "metadata": {},
     "output_type": "execute_result"
    }
   ],
   "source": [
    "# Accessing Information from a List- Use Index\n",
    "\n",
    "Income[5] # to access Income corresponding to Tina\n",
    "\n",
    "#Zero Based Indexing"
   ]
  },
  {
   "cell_type": "code",
   "execution_count": 22,
   "metadata": {},
   "outputs": [
    {
     "name": "stdout",
     "output_type": "stream",
     "text": [
      "['Amit', 75000, 'Tina', 65000]\n",
      "['Sumit', 50000, 'Amit', 75000, 'Tina', 65000, 'Heena', 45000, 'Reena', 25000]\n",
      "['Amit', 75000, 'Tina', 65000, 'Heena', 45000, 'Reena', 25000]\n",
      "['Sumit', 50000]\n"
     ]
    }
   ],
   "source": [
    "#slicing using\n",
    "#[start:end]\n",
    "\n",
    "print(Income[2:6])\n",
    "print(Income[:])\n",
    "print(Income[2:])\n",
    "print(Income[:2])\n",
    "\n",
    "#Income of males"
   ]
  },
  {
   "cell_type": "code",
   "execution_count": 23,
   "metadata": {},
   "outputs": [
    {
     "data": {
      "text/plain": [
       "135000"
      ]
     },
     "execution_count": 23,
     "metadata": {},
     "output_type": "execute_result"
    }
   ],
   "source": [
    "#Income of females\n",
    "Income[-1] + Income[-3] + Income[-5]"
   ]
  },
  {
   "cell_type": "code",
   "execution_count": 24,
   "metadata": {},
   "outputs": [
    {
     "data": {
      "text/plain": [
       "['Tina,65000']"
      ]
     },
     "execution_count": 24,
     "metadata": {},
     "output_type": "execute_result"
    }
   ],
   "source": [
    "Income2[2][:] # Accessing all elements from list of List"
   ]
  },
  {
   "cell_type": "code",
   "execution_count": 26,
   "metadata": {},
   "outputs": [
    {
     "data": {
      "text/plain": [
       "['Sumit', 55000, 'Amit', 75000, 'Tina', 65000, 'Heena', 45000, 'Reena', 25000]"
      ]
     },
     "execution_count": 26,
     "metadata": {},
     "output_type": "execute_result"
    }
   ],
   "source": [
    "#List Manipulations\n",
    "\n",
    "Income[1] = 55000 #Change\n",
    "Income"
   ]
  },
  {
   "cell_type": "code",
   "execution_count": 27,
   "metadata": {},
   "outputs": [
    {
     "data": {
      "text/plain": [
       "['Likhit', 60000, 'Amit', 75000, 'Tina', 65000, 'Heena', 45000, 'Reena', 25000]"
      ]
     },
     "execution_count": 27,
     "metadata": {},
     "output_type": "execute_result"
    }
   ],
   "source": [
    "Income[0:2] = ['Likhit',60000]  #Replacing elements\n",
    "Income"
   ]
  },
  {
   "cell_type": "code",
   "execution_count": 28,
   "metadata": {},
   "outputs": [
    {
     "data": {
      "text/plain": [
       "['Likhit',\n",
       " 60000,\n",
       " 'Amit',\n",
       " 75000,\n",
       " 'Tina',\n",
       " 65000,\n",
       " 'Heena',\n",
       " 45000,\n",
       " 'Reena',\n",
       " 25000,\n",
       " 'Sumit',\n",
       " 50000]"
      ]
     },
     "execution_count": 28,
     "metadata": {},
     "output_type": "execute_result"
    }
   ],
   "source": [
    "Income_add = Income + ['Sumit',50000] # Adding elements\n",
    "Income_add"
   ]
  },
  {
   "cell_type": "code",
   "execution_count": 29,
   "metadata": {},
   "outputs": [
    {
     "data": {
      "text/plain": [
       "['Amit', 75000, 'Tina', 65000, 'Heena', 45000, 'Reena', 25000, 'Sumit', 50000]"
      ]
     },
     "execution_count": 29,
     "metadata": {},
     "output_type": "execute_result"
    }
   ],
   "source": [
    "del(Income_add[0:2])  # Deleting an element\n",
    "Income_add"
   ]
  },
  {
   "cell_type": "code",
   "execution_count": 30,
   "metadata": {},
   "outputs": [
    {
     "data": {
      "text/plain": [
       "[11, 18, 20, 10, 9]"
      ]
     },
     "execution_count": 30,
     "metadata": {},
     "output_type": "execute_result"
    }
   ],
   "source": [
    "#Create List Age\n",
    "age = [11,18,20,10,9]\n",
    "\n",
    "age_new = age\n",
    "age_new"
   ]
  },
  {
   "cell_type": "code",
   "execution_count": 31,
   "metadata": {},
   "outputs": [
    {
     "data": {
      "text/plain": [
       "[11, 24, 20, 10, 9]"
      ]
     },
     "execution_count": 31,
     "metadata": {},
     "output_type": "execute_result"
    }
   ],
   "source": [
    "age_new[1] = 24\n",
    "age_new"
   ]
  },
  {
   "cell_type": "code",
   "execution_count": 32,
   "metadata": {},
   "outputs": [
    {
     "data": {
      "text/plain": [
       "[11, 24, 20, 10, 9]"
      ]
     },
     "execution_count": 32,
     "metadata": {},
     "output_type": "execute_result"
    }
   ],
   "source": [
    "age # Why is this happening?"
   ]
  },
  {
   "cell_type": "code",
   "execution_count": 33,
   "metadata": {},
   "outputs": [
    {
     "data": {
      "text/plain": [
       "[11, 24, 20, 10, 9]"
      ]
     },
     "execution_count": 33,
     "metadata": {},
     "output_type": "execute_result"
    }
   ],
   "source": [
    "age_new"
   ]
  },
  {
   "cell_type": "code",
   "execution_count": 34,
   "metadata": {},
   "outputs": [
    {
     "data": {
      "text/plain": [
       "[11, 24, 20, 10, 9]"
      ]
     },
     "execution_count": 34,
     "metadata": {},
     "output_type": "execute_result"
    }
   ],
   "source": [
    "age_final = age_new.copy()\n",
    "age_final"
   ]
  },
  {
   "cell_type": "code",
   "execution_count": 35,
   "metadata": {},
   "outputs": [
    {
     "data": {
      "text/plain": [
       "[11, 32, 20, 10, 9]"
      ]
     },
     "execution_count": 35,
     "metadata": {},
     "output_type": "execute_result"
    }
   ],
   "source": [
    "age_final[1] = 32\n",
    "age_final"
   ]
  },
  {
   "cell_type": "code",
   "execution_count": 36,
   "metadata": {},
   "outputs": [
    {
     "data": {
      "text/plain": [
       "[11, 24, 20, 10, 9]"
      ]
     },
     "execution_count": 36,
     "metadata": {},
     "output_type": "execute_result"
    }
   ],
   "source": [
    "age_new"
   ]
  },
  {
   "cell_type": "code",
   "execution_count": 37,
   "metadata": {},
   "outputs": [
    {
     "name": "stdout",
     "output_type": "stream",
     "text": [
      "[11, 24, 20, 10, 9]\n",
      "[11, 32, 20, 10, 9]\n",
      "[11, 24, 20, 10, 9]\n"
     ]
    }
   ],
   "source": [
    "age_final = age_new[:]\n",
    "print(age_final)\n",
    "age_final[1] = 32\n",
    "print(age_final)\n",
    "print(age_new)\n"
   ]
  },
  {
   "cell_type": "code",
   "execution_count": 38,
   "metadata": {},
   "outputs": [
    {
     "name": "stdout",
     "output_type": "stream",
     "text": [
      "<class 'float'>\n",
      "10\n"
     ]
    },
    {
     "ename": "NameError",
     "evalue": "name 'Intpy' is not defined",
     "output_type": "error",
     "traceback": [
      "\u001b[1;31m---------------------------------------------------------------------------\u001b[0m",
      "\u001b[1;31mNameError\u001b[0m                                 Traceback (most recent call last)",
      "\u001b[1;32m<ipython-input-38-b2cf50f429ae>\u001b[0m in \u001b[0;36m<module>\u001b[1;34m\u001b[0m\n\u001b[0;32m     11\u001b[0m \u001b[1;31m#Convert var to an integer: out2\u001b[0m\u001b[1;33m\u001b[0m\u001b[1;33m\u001b[0m\u001b[1;33m\u001b[0m\u001b[0m\n\u001b[0;32m     12\u001b[0m \u001b[0mIntPy\u001b[0m \u001b[1;33m=\u001b[0m \u001b[0mint\u001b[0m\u001b[1;33m(\u001b[0m\u001b[0mPython\u001b[0m\u001b[1;33m)\u001b[0m\u001b[1;33m\u001b[0m\u001b[1;33m\u001b[0m\u001b[0m\n\u001b[1;32m---> 13\u001b[1;33m \u001b[0mIntpy\u001b[0m\u001b[1;33m\u001b[0m\u001b[1;33m\u001b[0m\u001b[0m\n\u001b[0m",
      "\u001b[1;31mNameError\u001b[0m: name 'Intpy' is not defined"
     ]
    }
   ],
   "source": [
    "#Functions in python\n",
    "\n",
    "Python = True\n",
    "\n",
    "# Print out type of var\n",
    "print(type(Age))\n",
    "\n",
    "# Print out Length of var\n",
    "print(len(Income))\n",
    "\n",
    "#Convert var to an integer: out2\n",
    "IntPy = int(Python)\n",
    "Intpy"
   ]
  },
  {
   "cell_type": "code",
   "execution_count": 39,
   "metadata": {},
   "outputs": [
    {
     "name": "stdout",
     "output_type": "stream",
     "text": [
      "[10, 25, 34, 44, 50, 65]\n",
      "[65, 50, 44, 34, 25, 10]\n"
     ]
    }
   ],
   "source": [
    "# Create lists\n",
    "Age1 = [25,65,34,44]\n",
    "Age2 = [10,50]\n",
    "\n",
    "# Paste together\n",
    "Age_f = Age1 + Age2\n",
    "\n",
    "# Sort in descending order\n",
    "Age_full = sorted(Age_f)\n",
    "Age_FULL = sorted(Age_f, reverse = True)\n",
    "\n",
    "# Print out full_sorted\n",
    "print(Age_full)\n",
    "print(Age_FULL)"
   ]
  },
  {
   "cell_type": "code",
   "execution_count": 40,
   "metadata": {},
   "outputs": [
    {
     "name": "stdout",
     "output_type": "stream",
     "text": [
      "Help on built-in function sorted in module builtins:\n",
      "\n",
      "sorted(iterable, /, *, key=None, reverse=False)\n",
      "    Return a new list containing all items from the iterable in ascending order.\n",
      "    \n",
      "    A custom key function can be supplied to customize the sort order, and the\n",
      "    reverse flag can be set to request the result in descending order.\n",
      "\n"
     ]
    }
   ],
   "source": [
    "help(sorted)"
   ]
  },
  {
   "cell_type": "markdown",
   "metadata": {},
   "source": [
    "    Methods"
   ]
  },
  {
   "cell_type": "code",
   "execution_count": 41,
   "metadata": {},
   "outputs": [
    {
     "data": {
      "text/plain": [
       "6"
      ]
     },
     "execution_count": 41,
     "metadata": {},
     "output_type": "execute_result"
    }
   ],
   "source": [
    "Income.index('Heena')   #Index is a method"
   ]
  },
  {
   "cell_type": "code",
   "execution_count": 42,
   "metadata": {},
   "outputs": [
    {
     "name": "stdout",
     "output_type": "stream",
     "text": [
      "PYTHON\n"
     ]
    },
    {
     "data": {
      "text/plain": [
       "'python course'"
      ]
     },
     "execution_count": 42,
     "metadata": {},
     "output_type": "execute_result"
    }
   ],
   "source": [
    "Word = \"python\"\n",
    "print(Word.upper())\n",
    "Word.replace(\"n\",\"n course\")"
   ]
  },
  {
   "cell_type": "code",
   "execution_count": 43,
   "metadata": {},
   "outputs": [
    {
     "ename": "AttributeError",
     "evalue": "'list' object has no attribute 'replace'",
     "output_type": "error",
     "traceback": [
      "\u001b[1;31m---------------------------------------------------------------------------\u001b[0m",
      "\u001b[1;31mAttributeError\u001b[0m                            Traceback (most recent call last)",
      "\u001b[1;32m<ipython-input-43-41868b4600ac>\u001b[0m in \u001b[0;36m<module>\u001b[1;34m\u001b[0m\n\u001b[1;32m----> 1\u001b[1;33m \u001b[0mIncome\u001b[0m\u001b[1;33m.\u001b[0m\u001b[0mreplace\u001b[0m\u001b[1;33m(\u001b[0m\u001b[1;36m50000\u001b[0m\u001b[1;33m,\u001b[0m\u001b[1;36m45000\u001b[0m\u001b[1;33m)\u001b[0m\u001b[1;33m\u001b[0m\u001b[1;33m\u001b[0m\u001b[0m\n\u001b[0m",
      "\u001b[1;31mAttributeError\u001b[0m: 'list' object has no attribute 'replace'"
     ]
    }
   ],
   "source": [
    "Income.replace(50000,45000)"
   ]
  },
  {
   "cell_type": "code",
   "execution_count": 44,
   "metadata": {},
   "outputs": [
    {
     "data": {
      "text/plain": [
       "7"
      ]
     },
     "execution_count": 44,
     "metadata": {},
     "output_type": "execute_result"
    }
   ],
   "source": [
    "Income.index(45000)"
   ]
  },
  {
   "cell_type": "code",
   "execution_count": 45,
   "metadata": {},
   "outputs": [
    {
     "data": {
      "text/plain": [
       "2"
      ]
     },
     "execution_count": 45,
     "metadata": {},
     "output_type": "execute_result"
    }
   ],
   "source": [
    "Word.index('t')"
   ]
  },
  {
   "cell_type": "code",
   "execution_count": 46,
   "metadata": {},
   "outputs": [
    {
     "data": {
      "text/plain": [
       "['Likhit',\n",
       " 60000,\n",
       " 'Amit',\n",
       " 75000,\n",
       " 'Tina',\n",
       " 65000,\n",
       " 'Heena',\n",
       " 45000,\n",
       " 'Reena',\n",
       " 25000,\n",
       " 'Raina']"
      ]
     },
     "execution_count": 46,
     "metadata": {},
     "output_type": "execute_result"
    }
   ],
   "source": [
    "Income.append(\"Raina\")\n",
    "Income"
   ]
  },
  {
   "cell_type": "code",
   "execution_count": 47,
   "metadata": {},
   "outputs": [
    {
     "name": "stdout",
     "output_type": "stream",
     "text": [
      "2\n"
     ]
    }
   ],
   "source": [
    "Sample = \"Beautiful\"\n",
    "print(Sample.count(\"u\"))"
   ]
  },
  {
   "cell_type": "code",
   "execution_count": 61,
   "metadata": {},
   "outputs": [],
   "source": [
    "# Print out how often 25000 appears in Income"
   ]
  },
  {
   "cell_type": "code",
   "execution_count": 48,
   "metadata": {},
   "outputs": [
    {
     "name": "stdout",
     "output_type": "stream",
     "text": [
      "1\n"
     ]
    }
   ],
   "source": [
    "print(Income.count(25000))"
   ]
  },
  {
   "cell_type": "code",
   "execution_count": 49,
   "metadata": {},
   "outputs": [
    {
     "name": "stdout",
     "output_type": "stream",
     "text": [
      "[0, 1, 2, 3, 4, 5, 6, 7, 8, 9, 10]\n"
     ]
    }
   ],
   "source": [
    "c=range(11)\n",
    "print (list(c))"
   ]
  },
  {
   "cell_type": "markdown",
   "metadata": {},
   "source": [
    "Iterable and Iterate objects"
   ]
  },
  {
   "cell_type": "code",
   "execution_count": 67,
   "metadata": {},
   "outputs": [],
   "source": [
    "# Looping and conditionals interlude\n",
    "#using for loops and if-else statements\n",
    "\n",
    "\n"
   ]
  },
  {
   "cell_type": "code",
   "execution_count": 50,
   "metadata": {},
   "outputs": [
    {
     "name": "stdout",
     "output_type": "stream",
     "text": [
      "Yay!!\n"
     ]
    }
   ],
   "source": [
    "# We can control the flow of execution of code by using conditionals such as if-else\n",
    "if 2>3: #Notice that a statement is folllowed by a :\n",
    "    print('Is it possible?')\n",
    "else:\n",
    "    print('Yay!!')"
   ]
  },
  {
   "cell_type": "markdown",
   "metadata": {},
   "source": [
    "Case study\n",
    ". Use the assign_txt\n",
    ".Count number of capital letters\n",
    ". How many times has the word RSS occured?\n",
    ". How many times has the word Modi occured?\n"
   ]
  },
  {
   "cell_type": "code",
   "execution_count": 51,
   "metadata": {},
   "outputs": [],
   "source": [
    "assign_txt=\"Narendra Damodardas Modi, born 17 september 1950) is the 15th and current Prime Minister of India, in office\""
   ]
  },
  {
   "cell_type": "code",
   "execution_count": 52,
   "metadata": {},
   "outputs": [
    {
     "name": "stdout",
     "output_type": "stream",
     "text": [
      "0\n"
     ]
    }
   ],
   "source": [
    "print (assign_txt.count('RSS'))"
   ]
  },
  {
   "cell_type": "code",
   "execution_count": 53,
   "metadata": {},
   "outputs": [
    {
     "data": {
      "text/plain": [
       "str"
      ]
     },
     "execution_count": 53,
     "metadata": {},
     "output_type": "execute_result"
    }
   ],
   "source": [
    "type(assign_txt)"
   ]
  },
  {
   "cell_type": "code",
   "execution_count": 54,
   "metadata": {},
   "outputs": [
    {
     "name": "stdout",
     "output_type": "stream",
     "text": [
      "6\n"
     ]
    }
   ],
   "source": [
    "c=0\n",
    "for l in assign_txt:\n",
    "    if l.isupper():\n",
    "        c = c+1\n",
    "print (c)"
   ]
  },
  {
   "cell_type": "markdown",
   "metadata": {},
   "source": [
    "List Comprehension"
   ]
  },
  {
   "cell_type": "code",
   "execution_count": 55,
   "metadata": {},
   "outputs": [],
   "source": [
    "c=[2,3,4,5]"
   ]
  },
  {
   "cell_type": "code",
   "execution_count": 56,
   "metadata": {},
   "outputs": [
    {
     "name": "stdout",
     "output_type": "stream",
     "text": [
      "[4, 9, 16, 25]\n"
     ]
    }
   ],
   "source": [
    "#Suppose we want to create a list containing the squared in the list c\n",
    "#Method 1\n",
    "s=[]\n",
    "for num in c:\n",
    "    s.append(num**2)\n",
    "print(s)"
   ]
  },
  {
   "cell_type": "code",
   "execution_count": 57,
   "metadata": {},
   "outputs": [
    {
     "data": {
      "text/plain": [
       "[4, 9, 16, 25]"
      ]
     },
     "execution_count": 57,
     "metadata": {},
     "output_type": "execute_result"
    }
   ],
   "source": [
    "#Method 2\n",
    "[x**2 for x in c] #Very concise way"
   ]
  },
  {
   "cell_type": "code",
   "execution_count": 58,
   "metadata": {},
   "outputs": [],
   "source": [
    "Python_Structure = ['List', 'Strings','Dict','Boolean']\n",
    "range(50)\n",
    "Data_Science = 'Data is the new oil'\n",
    "price = 'Rs.20,000'\n",
    "income = 50000"
   ]
  },
  {
   "cell_type": "code",
   "execution_count": 59,
   "metadata": {},
   "outputs": [
    {
     "data": {
      "text/plain": [
       "[]"
      ]
     },
     "execution_count": 59,
     "metadata": {},
     "output_type": "execute_result"
    }
   ],
   "source": [
    "[]"
   ]
  },
  {
   "cell_type": "code",
   "execution_count": 60,
   "metadata": {},
   "outputs": [
    {
     "data": {
      "text/plain": [
       "[[1, 'a'], [2, 'b'], [3, 'c'], [4, 'd']]"
      ]
     },
     "execution_count": 60,
     "metadata": {},
     "output_type": "execute_result"
    }
   ],
   "source": [
    "# Suppose we want to create a list rom a and b such that it looks like the following\n",
    "[[1,'a'],[2,'b'],[3,'c'],[4,'d']]"
   ]
  },
  {
   "cell_type": "code",
   "execution_count": 61,
   "metadata": {},
   "outputs": [],
   "source": [
    "a=[1,2,3,4]\n",
    "b=['a','b','c','d']"
   ]
  },
  {
   "cell_type": "code",
   "execution_count": 62,
   "metadata": {},
   "outputs": [
    {
     "data": {
      "text/plain": [
       "[[1, 'a'], [2, 'b'], [3, 'c'], [4, 'd']]"
      ]
     },
     "execution_count": 62,
     "metadata": {},
     "output_type": "execute_result"
    }
   ],
   "source": [
    "[[x,y] for x in a for y in b if a.index(x)==b.index(y)]"
   ]
  },
  {
   "cell_type": "code",
   "execution_count": 63,
   "metadata": {},
   "outputs": [
    {
     "name": "stdout",
     "output_type": "stream",
     "text": [
      "[[0, 3], [0, 4], [1, 3], [1, 4]]\n"
     ]
    }
   ],
   "source": [
    "pairs = []\n",
    "for p in range(0,2):\n",
    "    for q in range(3,5):\n",
    "        pairs.append([p,q])\n",
    "print(pairs)"
   ]
  },
  {
   "cell_type": "code",
   "execution_count": 64,
   "metadata": {},
   "outputs": [
    {
     "name": "stdout",
     "output_type": "stream",
     "text": [
      "[[0, 3], [0, 4], [1, 3], [1, 4]]\n"
     ]
    }
   ],
   "source": [
    "pairs2 = [[p,q] for p in range(0,2) for q in range(3,5)]\n",
    "print(pairs2)"
   ]
  },
  {
   "cell_type": "code",
   "execution_count": 65,
   "metadata": {},
   "outputs": [
    {
     "data": {
      "text/plain": [
       "<zip at 0x1b21d6a4288>"
      ]
     },
     "execution_count": 65,
     "metadata": {},
     "output_type": "execute_result"
    }
   ],
   "source": [
    "# zip\n",
    "a=[1,2,3,4]\n",
    "b=['a','b','c','d']\n",
    "zip(a,b)"
   ]
  },
  {
   "cell_type": "code",
   "execution_count": 66,
   "metadata": {},
   "outputs": [
    {
     "name": "stdout",
     "output_type": "stream",
     "text": [
      "[(1, 'a'), (2, 'b'), (3, 'c'), (4, 'd')]\n"
     ]
    }
   ],
   "source": [
    "print(list(zip(a,b)))"
   ]
  },
  {
   "cell_type": "code",
   "execution_count": 68,
   "metadata": {},
   "outputs": [
    {
     "data": {
      "text/plain": [
       "[[1, 'a'], [2, 'b'], [3, 'c'], [4, 'd']]"
      ]
     },
     "execution_count": 68,
     "metadata": {},
     "output_type": "execute_result"
    }
   ],
   "source": [
    "[list(x) for x in zip(a,b) ]"
   ]
  },
  {
   "cell_type": "code",
   "execution_count": 69,
   "metadata": {},
   "outputs": [
    {
     "name": "stdout",
     "output_type": "stream",
     "text": [
      "['P', 'q', 'R']\n"
     ]
    }
   ],
   "source": [
    "x = ['P', 6, 1,'q', 5, 'R']         #List Comprehension - conditions on output expression\n",
    "strings = [y for y in x if type(y) == str]\n",
    "print(strings)"
   ]
  },
  {
   "cell_type": "code",
   "execution_count": 70,
   "metadata": {},
   "outputs": [
    {
     "data": {
      "text/plain": [
       "[0, 4, 16, 36, 64]"
      ]
     },
     "execution_count": 70,
     "metadata": {},
     "output_type": "execute_result"
    }
   ],
   "source": [
    "[num**2 for num in range(10) if num%2 ==0]"
   ]
  },
  {
   "cell_type": "code",
   "execution_count": 71,
   "metadata": {},
   "outputs": [
    {
     "data": {
      "text/plain": [
       "[0, 0, 4, 0, 16, 0, 36, 0, 64, 0]"
      ]
     },
     "execution_count": 71,
     "metadata": {},
     "output_type": "execute_result"
    }
   ],
   "source": [
    "[num**2 if num%2 ==0 else 0 for num in range(10)]"
   ]
  },
  {
   "cell_type": "code",
   "execution_count": 72,
   "metadata": {},
   "outputs": [
    {
     "name": "stdout",
     "output_type": "stream",
     "text": [
      "<generator object <genexpr> at 0x000001B21D6BD1B0>\n",
      "[4, 1, 6]\n"
     ]
    }
   ],
   "source": [
    "int_list = [-2,4,1,6,-3]\n",
    "print(x for x in int_list if x > 0)\n",
    "print(list(x for x in int_list if x > 0))"
   ]
  },
  {
   "cell_type": "markdown",
   "metadata": {},
   "source": [
    "# Lambdas,map,filter and reduce\n",
    "# We can use lambdas , filter, map and reduce to replicate the functioality of list comprehension"
   ]
  },
  {
   "cell_type": "code",
   "execution_count": 73,
   "metadata": {},
   "outputs": [
    {
     "name": "stdout",
     "output_type": "stream",
     "text": [
      "<map object at 0x000001B21D6CB550>\n",
      "<filter object at 0x000001B21D6CB4A8>\n",
      "[16.528925619834713, 19.031141868512112, 27.055150884495315, 23.456790123456788]\n"
     ]
    }
   ],
   "source": [
    "mass=[45,55,65,76]\n",
    "ht=[1.65,1.70,1.55,1.80]\n",
    "bmi=map(lambda x,y:x/y**2,mass,ht)\n",
    "bmi_f=filter(lambda x:x<20,bmi)\n",
    "print (bmi)\n",
    "print (bmi_f)\n",
    "print(list(bmi))"
   ]
  },
  {
   "cell_type": "code",
   "execution_count": 74,
   "metadata": {},
   "outputs": [
    {
     "name": "stdout",
     "output_type": "stream",
     "text": [
      "YayYayYay\n"
     ]
    }
   ],
   "source": [
    "# define W1 as a Lambda function\n",
    "W1 = (lambda x, y: x * y)\n",
    "\n",
    "# call W1: result\n",
    "result = W1('Yay', 3)\n",
    "\n",
    "# Print result\n",
    "print(result)"
   ]
  },
  {
   "cell_type": "code",
   "execution_count": 75,
   "metadata": {},
   "outputs": [],
   "source": [
    "nums = [2,4,6,8,10]\n",
    "result = map(lambda a: a ** 2, nums)"
   ]
  },
  {
   "cell_type": "code",
   "execution_count": 76,
   "metadata": {},
   "outputs": [
    {
     "name": "stdout",
     "output_type": "stream",
     "text": [
      "['chennai', 'Kolkata']\n"
     ]
    }
   ],
   "source": [
    "# Filter\n",
    "Cities = ['Delhi','Pune', 'chennai','Kolkata']\n",
    "\n",
    "# Use filter() to apply a Lambda function over fellowship: result\n",
    "result = filter(lambda m: len(m) > 6, Cities)\n",
    "\n",
    "type(result)\n",
    "# convert result to a list: result_list\n",
    "result_list = list(result)\n",
    "\n",
    "# Convert result into a list and print it\n",
    "print(result_list)"
   ]
  },
  {
   "cell_type": "markdown",
   "metadata": {},
   "source": [
    "Error Handling"
   ]
  },
  {
   "cell_type": "code",
   "execution_count": 77,
   "metadata": {},
   "outputs": [
    {
     "name": "stdout",
     "output_type": "stream",
     "text": [
      "x argument must be a string and y argument must be an integer.\n"
     ]
    },
    {
     "data": {
      "text/plain": [
       "''"
      ]
     },
     "execution_count": 77,
     "metadata": {},
     "output_type": "execute_result"
    }
   ],
   "source": [
    "# Define w\n",
    "def w3(x, y=1):\n",
    "    \"\"\"\"Concatenate copies of word1 and two \n",
    "    exclamation marks at the end of the string.\"\"\"\n",
    "    \n",
    "    # Initialize empty strings:\n",
    "    w3 = ''\n",
    "    s3 = ''\n",
    "    \n",
    "    # Add exception handling with try-except\n",
    "    try:\n",
    "        # Conatenate copies of word using *\n",
    "        w3 = x * y\n",
    "        \n",
    "        # Concatenate '!!'\n",
    "        s3 = w3 + '!!'\n",
    "    except:\n",
    "        # Print error message\n",
    "        print(\"x argument must be a string and y argument must be an integer.\")\n",
    "        \n",
    "    return s3\n",
    "\n",
    "# call s\n",
    "w3(\"Yay\",\"Great\")"
   ]
  },
  {
   "cell_type": "code",
   "execution_count": 78,
   "metadata": {},
   "outputs": [
    {
     "ename": "TypeError",
     "evalue": "'<' not supported between instances of 'function' and 'int'",
     "output_type": "error",
     "traceback": [
      "\u001b[1;31m---------------------------------------------------------------------------\u001b[0m",
      "\u001b[1;31mTypeError\u001b[0m                                 Traceback (most recent call last)",
      "\u001b[1;32m<ipython-input-78-ffb108b96c14>\u001b[0m in \u001b[0;36m<module>\u001b[1;34m\u001b[0m\n\u001b[0;32m     18\u001b[0m \u001b[1;33m\u001b[0m\u001b[0m\n\u001b[0;32m     19\u001b[0m \u001b[1;31m# Call w4\u001b[0m\u001b[1;33m\u001b[0m\u001b[1;33m\u001b[0m\u001b[1;33m\u001b[0m\u001b[0m\n\u001b[1;32m---> 20\u001b[1;33m \u001b[0mw4\u001b[0m\u001b[1;33m(\u001b[0m\u001b[1;34m\"yay\"\u001b[0m\u001b[1;33m,\u001b[0m\u001b[0my\u001b[0m\u001b[1;33m=\u001b[0m\u001b[1;36m5\u001b[0m\u001b[1;33m)\u001b[0m\u001b[1;33m\u001b[0m\u001b[1;33m\u001b[0m\u001b[0m\n\u001b[0m",
      "\u001b[1;32m<ipython-input-78-ffb108b96c14>\u001b[0m in \u001b[0;36mw4\u001b[1;34m(x, y)\u001b[0m\n\u001b[0;32m      5\u001b[0m \u001b[1;33m\u001b[0m\u001b[0m\n\u001b[0;32m      6\u001b[0m     \u001b[1;31m# Raise an error with raise\u001b[0m\u001b[1;33m\u001b[0m\u001b[1;33m\u001b[0m\u001b[1;33m\u001b[0m\u001b[0m\n\u001b[1;32m----> 7\u001b[1;33m     \u001b[1;32mif\u001b[0m \u001b[0mw4\u001b[0m \u001b[1;33m<\u001b[0m \u001b[1;36m0\u001b[0m\u001b[1;33m:\u001b[0m\u001b[1;33m\u001b[0m\u001b[1;33m\u001b[0m\u001b[0m\n\u001b[0m\u001b[0;32m      8\u001b[0m         \u001b[1;32mraise\u001b[0m \u001b[0mValueError\u001b[0m\u001b[1;33m(\u001b[0m\u001b[1;34m'w4 must be greater than 0'\u001b[0m\u001b[1;33m)\u001b[0m\u001b[1;33m\u001b[0m\u001b[1;33m\u001b[0m\u001b[0m\n\u001b[0;32m      9\u001b[0m \u001b[1;33m\u001b[0m\u001b[0m\n",
      "\u001b[1;31mTypeError\u001b[0m: '<' not supported between instances of 'function' and 'int'"
     ]
    }
   ],
   "source": [
    "# Define w4\n",
    "def w4(x,y=3):\n",
    "    \"\"\"\"Concatenate copies of word-x and three \n",
    "    exclamation marks at the end of the string.\"\"\"\n",
    "    \n",
    "    # Raise an error with raise\n",
    "    if w4 < 0:\n",
    "        raise ValueError('w4 must be greater than 0')\n",
    "        \n",
    "    # Concatenate copies of word1 using *:\n",
    "    z = x * y\n",
    "    \n",
    "    # Concatenate '!!!'\n",
    "    w = z + '!!!'\n",
    "    \n",
    "    # Return\n",
    "    return w\n",
    "\n",
    "# Call w4\n",
    "w4(\"yay\",y=5)"
   ]
  },
  {
   "cell_type": "markdown",
   "metadata": {},
   "source": [
    "Tuples and Dictionaries"
   ]
  },
  {
   "cell_type": "code",
   "execution_count": 80,
   "metadata": {},
   "outputs": [
    {
     "name": "stdout",
     "output_type": "stream",
     "text": [
      "(1, 2, 3, 5)\n"
     ]
    }
   ],
   "source": [
    "t=(1,2,3,5)\n",
    "print(t)"
   ]
  },
  {
   "cell_type": "code",
   "execution_count": 82,
   "metadata": {},
   "outputs": [
    {
     "name": "stdout",
     "output_type": "stream",
     "text": [
      "1\n",
      "2\n"
     ]
    }
   ],
   "source": [
    "print(t[0])\n",
    "print(t[1])"
   ]
  },
  {
   "cell_type": "code",
   "execution_count": 84,
   "metadata": {},
   "outputs": [
    {
     "name": "stdout",
     "output_type": "stream",
     "text": [
      "[0, 2, 3, 4]\n"
     ]
    }
   ],
   "source": [
    "li6=[1,2,3,4]\n",
    "li6[0]=0\n",
    "print (li6)"
   ]
  },
  {
   "cell_type": "code",
   "execution_count": 86,
   "metadata": {},
   "outputs": [
    {
     "ename": "TypeError",
     "evalue": "'tuple' object does not support item assignment",
     "output_type": "error",
     "traceback": [
      "\u001b[1;31m---------------------------------------------------------------------------\u001b[0m",
      "\u001b[1;31mTypeError\u001b[0m                                 Traceback (most recent call last)",
      "\u001b[1;32m<ipython-input-86-9946ebc62b5f>\u001b[0m in \u001b[0;36m<module>\u001b[1;34m\u001b[0m\n\u001b[1;32m----> 1\u001b[1;33m \u001b[0mt\u001b[0m\u001b[1;33m[\u001b[0m\u001b[1;36m0\u001b[0m\u001b[1;33m]\u001b[0m\u001b[1;33m=\u001b[0m\u001b[1;36m0\u001b[0m\u001b[1;33m\u001b[0m\u001b[1;33m\u001b[0m\u001b[0m\n\u001b[0m",
      "\u001b[1;31mTypeError\u001b[0m: 'tuple' object does not support item assignment"
     ]
    }
   ],
   "source": [
    "t[0]=0"
   ]
  },
  {
   "cell_type": "code",
   "execution_count": 88,
   "metadata": {},
   "outputs": [
    {
     "name": "stdout",
     "output_type": "stream",
     "text": [
      "['__add__', '__class__', '__contains__', '__delattr__', '__dir__', '__doc__', '__eq__', '__format__', '__ge__', '__getattribute__', '__getitem__', '__getnewargs__', '__gt__', '__hash__', '__init__', '__init_subclass__', '__iter__', '__le__', '__len__', '__lt__', '__mul__', '__ne__', '__new__', '__reduce__', '__reduce_ex__', '__repr__', '__rmul__', '__setattr__', '__sizeof__', '__str__', '__subclasshook__', 'count', 'index']\n"
     ]
    }
   ],
   "source": [
    "print (dir(t))"
   ]
  },
  {
   "cell_type": "markdown",
   "metadata": {},
   "source": [
    "Dictionaries\n",
    "Dictionaries as hashables\n",
    "Extracting keys, values\n",
    "Sorting a dictionary\n",
    "Looping through a dictionary"
   ]
  },
  {
   "cell_type": "code",
   "execution_count": 90,
   "metadata": {},
   "outputs": [
    {
     "data": {
      "text/plain": [
       "40000"
      ]
     },
     "execution_count": 90,
     "metadata": {},
     "output_type": "execute_result"
    }
   ],
   "source": [
    "Income = [30000,40000,25000]\n",
    "name = [\"Umesh\",\"Ramesh\",\"Nilesh\"]\n",
    "in_r = name.index('Ramesh')\n",
    "in_r\n",
    "Income[in_r]"
   ]
  },
  {
   "cell_type": "code",
   "execution_count": 92,
   "metadata": {},
   "outputs": [
    {
     "name": "stdout",
     "output_type": "stream",
     "text": [
      "{'Umesh': 30000, 'Ramesh': 40000, 'Nilesh': 25000}\n"
     ]
    }
   ],
   "source": [
    "#Dictionary -key:value pairs\n",
    "\n",
    "Inc = {\"Umesh\":30000,\"Ramesh\":40000,\"Nilesh\":25000}\n",
    "print(Inc)"
   ]
  },
  {
   "cell_type": "code",
   "execution_count": 94,
   "metadata": {},
   "outputs": [
    {
     "name": "stdout",
     "output_type": "stream",
     "text": [
      "30000\n"
     ]
    }
   ],
   "source": [
    "#dict_name[key]\n",
    "print(Inc[\"Umesh\"])"
   ]
  },
  {
   "cell_type": "code",
   "execution_count": 96,
   "metadata": {},
   "outputs": [
    {
     "name": "stdout",
     "output_type": "stream",
     "text": [
      "dict_keys(['Umesh', 'Ramesh', 'Nilesh'])\n",
      "dict_values([30000, 40000, 25000])\n"
     ]
    }
   ],
   "source": [
    "#Print keys in Inc\n",
    "print(Inc.keys())\n",
    "print(Inc.values())"
   ]
  },
  {
   "cell_type": "code",
   "execution_count": 98,
   "metadata": {},
   "outputs": [
    {
     "data": {
      "text/plain": [
       "True"
      ]
     },
     "execution_count": 98,
     "metadata": {},
     "output_type": "execute_result"
    }
   ],
   "source": [
    "\"Nilesh\" in Inc"
   ]
  },
  {
   "cell_type": "code",
   "execution_count": 100,
   "metadata": {},
   "outputs": [
    {
     "name": "stdout",
     "output_type": "stream",
     "text": [
      "{'Umesh': 30000, 'Ramesh': 40000, 'Nilesh': 35000}\n"
     ]
    }
   ],
   "source": [
    "Inc[\"Nilesh\"] = 35000\n",
    "print(Inc)"
   ]
  },
  {
   "cell_type": "code",
   "execution_count": 102,
   "metadata": {},
   "outputs": [
    {
     "ename": "KeyError",
     "evalue": "'Nilesh'",
     "output_type": "error",
     "traceback": [
      "\u001b[1;31m---------------------------------------------------------------------------\u001b[0m",
      "\u001b[1;31mKeyError\u001b[0m                                  Traceback (most recent call last)",
      "\u001b[1;32m<ipython-input-102-6c23e5bb0441>\u001b[0m in \u001b[0;36m<module>\u001b[1;34m\u001b[0m\n\u001b[1;32m----> 1\u001b[1;33m \u001b[1;32mdel\u001b[0m\u001b[1;33m(\u001b[0m\u001b[0mInc\u001b[0m\u001b[1;33m[\u001b[0m\u001b[1;34m\"Nilesh\"\u001b[0m\u001b[1;33m]\u001b[0m\u001b[1;33m)\u001b[0m\u001b[1;33m\u001b[0m\u001b[1;33m\u001b[0m\u001b[0m\n\u001b[0m",
      "\u001b[1;31mKeyError\u001b[0m: 'Nilesh'"
     ]
    }
   ],
   "source": [
    "del(Inc[\"Nilesh\"])"
   ]
  },
  {
   "cell_type": "code",
   "execution_count": 104,
   "metadata": {},
   "outputs": [
    {
     "name": "stdout",
     "output_type": "stream",
     "text": [
      "{'Umesh': 30000, 'Ramesh': 40000}\n"
     ]
    }
   ],
   "source": [
    "print(Inc)"
   ]
  },
  {
   "cell_type": "code",
   "execution_count": 106,
   "metadata": {},
   "outputs": [
    {
     "name": "stdout",
     "output_type": "stream",
     "text": [
      "['__class__', '__contains__', '__delattr__', '__delitem__', '__dir__', '__doc__', '__eq__', '__format__', '__ge__', '__getattribute__', '__getitem__', '__gt__', '__hash__', '__init__', '__init_subclass__', '__iter__', '__le__', '__len__', '__lt__', '__ne__', '__new__', '__reduce__', '__reduce_ex__', '__repr__', '__setattr__', '__setitem__', '__sizeof__', '__str__', '__subclasshook__', 'clear', 'copy', 'fromkeys', 'get', 'items', 'keys', 'pop', 'popitem', 'setdefault', 'update', 'values']\n"
     ]
    }
   ],
   "source": [
    "print (dir(Inc))"
   ]
  },
  {
   "cell_type": "code",
   "execution_count": 108,
   "metadata": {},
   "outputs": [
    {
     "name": "stdout",
     "output_type": "stream",
     "text": [
      "dict_items([('Umesh', 30000), ('Ramesh', 40000)])\n"
     ]
    }
   ],
   "source": [
    "print (Inc.items())\n"
   ]
  },
  {
   "cell_type": "code",
   "execution_count": 110,
   "metadata": {},
   "outputs": [
    {
     "name": "stdout",
     "output_type": "stream",
     "text": [
      "40000\n",
      "{'Ramesh': {'Gender': 'male', 'Income': 40000}, 'Ana': {'Gender': 'female', 'Income': 66000}, 'Uma': {'Gender': 'female', 'Income': 20000}, 'Umesh': {'Gender': 'male', 'Income': 58000}, 'Seema': {'Gender': 'female', 'Income': 30000}}\n"
     ]
    }
   ],
   "source": [
    "# Dictionary of dictionaries\n",
    "Income1 = { 'Ramesh': {'Gender':'male','Income':40000},'Ana': {'Gender':'female','Income':66000},'Uma': { 'Gender':'female','Income':20000},'Umesh': { 'Gender':'male','Income':58000}}\n",
    "\n",
    "# Print out the Income of Ramesh\n",
    "print(Income1['Ramesh']['Income'])\n",
    "\n",
    "#Create sub-dictionary data\n",
    "income2 = {'Gender':'female','Income':30000 }\n",
    "\n",
    "#Add data to europe under key 'italy'\n",
    "Income1['Seema'] = income2\n",
    "\n",
    "#  Print\n",
    "print(Income1)"
   ]
  },
  {
   "cell_type": "code",
   "execution_count": 112,
   "metadata": {},
   "outputs": [
    {
     "name": "stdout",
     "output_type": "stream",
     "text": [
      "Umesh\n",
      "Ramesh\n"
     ]
    }
   ],
   "source": [
    "for x in Inc:\n",
    "    print (x)"
   ]
  },
  {
   "cell_type": "code",
   "execution_count": 114,
   "metadata": {},
   "outputs": [
    {
     "name": "stdout",
     "output_type": "stream",
     "text": [
      "Umesh 30000\n",
      "Ramesh 40000\n"
     ]
    }
   ],
   "source": [
    "for x in Inc:\n",
    "    print (x,Inc[x])"
   ]
  },
  {
   "cell_type": "code",
   "execution_count": 117,
   "metadata": {},
   "outputs": [
    {
     "name": "stdout",
     "output_type": "stream",
     "text": [
      "{1: -1}\n"
     ]
    },
    {
     "data": {
      "text/plain": [
       "dict"
      ]
     },
     "execution_count": 117,
     "metadata": {},
     "output_type": "execute_result"
    }
   ],
   "source": [
    "# List comprehension on Dictionaries\n",
    "\n",
    "pos_neg = {1:-1 for l in range(3)}\n",
    "print(pos_neg)\n",
    "type(pos_neg)"
   ]
  },
  {
   "cell_type": "markdown",
   "metadata": {},
   "source": [
    "use the assign_txt\n",
    "Find out the occurence of each word in text string(Create a list of each word in the string,loop over this list to create a dictionary of words and their occurences"
   ]
  },
  {
   "cell_type": "code",
   "execution_count": 119,
   "metadata": {},
   "outputs": [],
   "source": [
    "d={}\n",
    "for w in assign_txt.split(\" \"):\n",
    "    if w in d:\n",
    "        d[w]=d[w]+1\n",
    "    else:\n",
    "        d[w]=1"
   ]
  },
  {
   "cell_type": "code",
   "execution_count": 121,
   "metadata": {},
   "outputs": [
    {
     "name": "stdout",
     "output_type": "stream",
     "text": [
      "{'Narendra': 1, 'Damodardas': 1, 'Modi,': 1, 'born': 1, '17': 1, 'september': 1, '1950)': 1, 'is': 1, 'the': 1, '15th': 1, 'and': 1, 'current': 1, 'Prime': 1, 'Minister': 1, 'of': 1, 'India,': 1, 'in': 1, 'office': 1}\n"
     ]
    }
   ],
   "source": [
    "print (d)"
   ]
  },
  {
   "cell_type": "markdown",
   "metadata": {},
   "source": [
    "Files"
   ]
  },
  {
   "cell_type": "code",
   "execution_count": 122,
   "metadata": {},
   "outputs": [],
   "source": [
    "# Reading Files\n",
    "# Manipulating data in file objects\n",
    "# Writing out files"
   ]
  },
  {
   "cell_type": "code",
   "execution_count": 124,
   "metadata": {},
   "outputs": [],
   "source": [
    "# modules interlude\n",
    "import os\n",
    "os.chdir('D:\\LinkCXO\\File')"
   ]
  },
  {
   "cell_type": "code",
   "execution_count": 126,
   "metadata": {},
   "outputs": [
    {
     "name": "stdout",
     "output_type": "stream",
     "text": [
      "<class '_io.TextIOWrapper'>\n",
      "<class 'str'>\n"
     ]
    }
   ],
   "source": [
    "f=open('science.txt','r')\n",
    "fo=f.read()\n",
    "print(type(f))\n",
    "print(type(fo))\n",
    "f.close()"
   ]
  },
  {
   "cell_type": "code",
   "execution_count": 128,
   "metadata": {},
   "outputs": [],
   "source": [
    "f=open('write.txt','w')\n",
    "for dt in fo:\n",
    "    f.write(dt+'\\n')\n",
    "f.close()"
   ]
  },
  {
   "cell_type": "code",
   "execution_count": 130,
   "metadata": {},
   "outputs": [
    {
     "data": {
      "text/plain": [
       "'12345678'"
      ]
     },
     "execution_count": 130,
     "metadata": {},
     "output_type": "execute_result"
    }
   ],
   "source": [
    "fo[0:10]"
   ]
  },
  {
   "cell_type": "code",
   "execution_count": 133,
   "metadata": {},
   "outputs": [],
   "source": [
    "with open(\"science.txt\",\"r\") as infile:\n",
    "     dat=infile.read()"
   ]
  },
  {
   "cell_type": "code",
   "execution_count": 135,
   "metadata": {},
   "outputs": [
    {
     "data": {
      "text/plain": [
       "'12345678'"
      ]
     },
     "execution_count": 135,
     "metadata": {},
     "output_type": "execute_result"
    }
   ],
   "source": [
    "dat[0:10]"
   ]
  },
  {
   "cell_type": "markdown",
   "metadata": {},
   "source": [
    "Assignment\n",
    "Use the file tweets_assignment.txt\n",
    "Count the total number of tweets in the file\n",
    "Extract the time stamp from the file and store it in a list"
   ]
  }
 ],
 "metadata": {
  "kernelspec": {
   "display_name": "Python 3",
   "language": "python",
   "name": "python3"
  },
  "language_info": {
   "codemirror_mode": {
    "name": "ipython",
    "version": 3
   },
   "file_extension": ".py",
   "mimetype": "text/x-python",
   "name": "python",
   "nbconvert_exporter": "python",
   "pygments_lexer": "ipython3",
   "version": "3.7.4"
  }
 },
 "nbformat": 4,
 "nbformat_minor": 2
}
